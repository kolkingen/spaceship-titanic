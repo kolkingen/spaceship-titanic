{
 "cells": [
  {
   "cell_type": "markdown",
   "metadata": {},
   "source": [
    "# Космический корабль Титаник\n",
    "\n",
    "[Spaceship Titanic: predict which passengers are transported to an alternate dimension](https://www.kaggle.com/competitions/spaceship-titanic/)  "
   ]
  },
  {
   "cell_type": "markdown",
   "metadata": {},
   "source": [
    "Задача взята из соревнования на kaggle для начинающих. Представляет собой классическую бинарную классификацию по мотивам известного датасета Titanic.  \n",
    "\n",
    "Суть датасета и задачи заключается в следующем: космический корабль Титаник, двигавшийся к далёким звездным системам, попал в пространственно-временную аномалию, вследствие чего половина пассажиров попали в альтернативную реальность. По данным бортового компьютера **необходимо предсказать, попал ли тот или иной пассажир в эту самую параллельную реальность**, тем самым облегчив спасательную операцию.  "
   ]
  },
  {
   "cell_type": "markdown",
   "metadata": {},
   "source": [
    "Данные представлены двумя файлами. В файле `train.csv` представлена информация о 8693 пассажирах в 14 колонках. В файле `test.csv` представлена информация о 4277 пассажирах с теми же колонками, но без целевой переменной. Собственно эти тестовые данные и нужно классифицировать, отправив на странице соревнования файл `submission.csv` с двумя колонками: `PassengerId` и `Transported`.  \n",
    "\n",
    "**Описание** датасета:  \n",
    "\n",
    "* `PassengerId` - Уникальный идентификатор пассажира, состоящий из двух частей `gggg_pp`, где `gggg` - это номер группы пассажира, а `pp` - номер самого пассажира в группе, люди в одной группе могут быть связаны, например, родством.  \n",
    "* `HomePlanet` - Планета, с которой пассажир отбыл.  \n",
    "* `CryoSleep` - Был ли пассажир в состоянии анабиоза.  \n",
    "* `Cabin` - Номер каюты пассажира, состоит из трёх частей `deck/num/side` - палуба/номер/сторона, где сторона может быть или `P` для левого борта или `S` для правого.  \n",
    "* `Destination` - Планета назначения, куда летит пассажир.  \n",
    "* `Age` - Возраст.  \n",
    "* `VIP` - Заплатил ли пассажир за VIP услуги.  \n",
    "* `RoomService`, `FoodCourt`, `ShoppingMall`, `Spa`, `VRDeck` - Сколько заплатил пассажир за те или иные роскошные удобства.  \n",
    "* `Name` - Имя и фамилия.  \n",
    "* `Transported` - Был ли пассажир отправлен в альтернативное измерение. Это **целевая переменная**.  "
   ]
  },
  {
   "cell_type": "markdown",
   "metadata": {},
   "source": [
    "## Подготовка  "
   ]
  },
  {
   "cell_type": "markdown",
   "metadata": {},
   "source": [
    "### Настройка ноутбука"
   ]
  },
  {
   "cell_type": "code",
   "execution_count": 1,
   "metadata": {},
   "outputs": [],
   "source": [
    "import warnings\n",
    "warnings.filterwarnings('ignore')\n",
    "\n",
    "%matplotlib inline"
   ]
  },
  {
   "cell_type": "markdown",
   "metadata": {},
   "source": [
    "### Импорт библиотек  "
   ]
  },
  {
   "cell_type": "code",
   "execution_count": 2,
   "metadata": {},
   "outputs": [],
   "source": [
    "from os.path import join as path_join\n",
    "from functools import partial\n",
    "from typing import NamedTuple, Sequence, Hashable\n",
    "\n",
    "import pandas as pd\n",
    "import numpy as np\n",
    "import numpy.typing as npt\n",
    "import seaborn as sns\n",
    "import matplotlib.pyplot as plt\n",
    "\n",
    "from sklearn.pipeline import Pipeline\n",
    "from sklearn.impute import SimpleImputer\n",
    "from sklearn.model_selection import GridSearchCV, cross_validate\n",
    "from sklearn.compose import ColumnTransformer, make_column_selector\n",
    "from sklearn.preprocessing import StandardScaler, OneHotEncoder, FunctionTransformer\n",
    "from sklearn.base import BaseEstimator, TransformerMixin\n",
    "from sklearn.utils.validation import check_is_fitted\n",
    "\n",
    "from sklearn.base import BaseEstimator\n",
    "from sklearn.svm import SVC\n",
    "from sklearn.dummy import DummyClassifier\n",
    "from sklearn.neighbors import KNeighborsClassifier\n",
    "from sklearn.linear_model import LogisticRegression, RidgeClassifier\n",
    "from sklearn.ensemble import VotingClassifier, StackingClassifier\n",
    "from sklearn.ensemble import RandomForestClassifier, GradientBoostingClassifier"
   ]
  },
  {
   "cell_type": "markdown",
   "metadata": {},
   "source": [
    "### Установка констант  "
   ]
  },
  {
   "cell_type": "code",
   "execution_count": 3,
   "metadata": {},
   "outputs": [],
   "source": [
    "TEST_SIZE = 0.2\n",
    "RANDOM_STATE = 42\n",
    "N_FOLDS = 6\n",
    "TARGET = 'Transported'"
   ]
  },
  {
   "cell_type": "markdown",
   "metadata": {},
   "source": [
    "### Загрузка данных  "
   ]
  },
  {
   "cell_type": "code",
   "execution_count": 4,
   "metadata": {},
   "outputs": [
    {
     "name": "stdout",
     "output_type": "stream",
     "text": [
      "Размер тренировочного датасета: (8693, 14)\n",
      "Размер тестового датасета: (4277, 13)\n"
     ]
    },
    {
     "data": {
      "text/html": [
       "<div>\n",
       "<style scoped>\n",
       "    .dataframe tbody tr th:only-of-type {\n",
       "        vertical-align: middle;\n",
       "    }\n",
       "\n",
       "    .dataframe tbody tr th {\n",
       "        vertical-align: top;\n",
       "    }\n",
       "\n",
       "    .dataframe thead th {\n",
       "        text-align: right;\n",
       "    }\n",
       "</style>\n",
       "<table border=\"1\" class=\"dataframe\">\n",
       "  <thead>\n",
       "    <tr style=\"text-align: right;\">\n",
       "      <th></th>\n",
       "      <th>PassengerId</th>\n",
       "      <th>HomePlanet</th>\n",
       "      <th>CryoSleep</th>\n",
       "      <th>Cabin</th>\n",
       "      <th>Destination</th>\n",
       "      <th>Age</th>\n",
       "      <th>VIP</th>\n",
       "      <th>RoomService</th>\n",
       "      <th>FoodCourt</th>\n",
       "      <th>ShoppingMall</th>\n",
       "      <th>Spa</th>\n",
       "      <th>VRDeck</th>\n",
       "      <th>Name</th>\n",
       "      <th>Transported</th>\n",
       "    </tr>\n",
       "  </thead>\n",
       "  <tbody>\n",
       "    <tr>\n",
       "      <th>0</th>\n",
       "      <td>0001_01</td>\n",
       "      <td>Europa</td>\n",
       "      <td>False</td>\n",
       "      <td>B/0/P</td>\n",
       "      <td>TRAPPIST-1e</td>\n",
       "      <td>39.0</td>\n",
       "      <td>False</td>\n",
       "      <td>0.0</td>\n",
       "      <td>0.0</td>\n",
       "      <td>0.0</td>\n",
       "      <td>0.0</td>\n",
       "      <td>0.0</td>\n",
       "      <td>Maham Ofracculy</td>\n",
       "      <td>False</td>\n",
       "    </tr>\n",
       "    <tr>\n",
       "      <th>1</th>\n",
       "      <td>0002_01</td>\n",
       "      <td>Earth</td>\n",
       "      <td>False</td>\n",
       "      <td>F/0/S</td>\n",
       "      <td>TRAPPIST-1e</td>\n",
       "      <td>24.0</td>\n",
       "      <td>False</td>\n",
       "      <td>109.0</td>\n",
       "      <td>9.0</td>\n",
       "      <td>25.0</td>\n",
       "      <td>549.0</td>\n",
       "      <td>44.0</td>\n",
       "      <td>Juanna Vines</td>\n",
       "      <td>True</td>\n",
       "    </tr>\n",
       "    <tr>\n",
       "      <th>2</th>\n",
       "      <td>0003_01</td>\n",
       "      <td>Europa</td>\n",
       "      <td>False</td>\n",
       "      <td>A/0/S</td>\n",
       "      <td>TRAPPIST-1e</td>\n",
       "      <td>58.0</td>\n",
       "      <td>True</td>\n",
       "      <td>43.0</td>\n",
       "      <td>3576.0</td>\n",
       "      <td>0.0</td>\n",
       "      <td>6715.0</td>\n",
       "      <td>49.0</td>\n",
       "      <td>Altark Susent</td>\n",
       "      <td>False</td>\n",
       "    </tr>\n",
       "    <tr>\n",
       "      <th>3</th>\n",
       "      <td>0003_02</td>\n",
       "      <td>Europa</td>\n",
       "      <td>False</td>\n",
       "      <td>A/0/S</td>\n",
       "      <td>TRAPPIST-1e</td>\n",
       "      <td>33.0</td>\n",
       "      <td>False</td>\n",
       "      <td>0.0</td>\n",
       "      <td>1283.0</td>\n",
       "      <td>371.0</td>\n",
       "      <td>3329.0</td>\n",
       "      <td>193.0</td>\n",
       "      <td>Solam Susent</td>\n",
       "      <td>False</td>\n",
       "    </tr>\n",
       "    <tr>\n",
       "      <th>4</th>\n",
       "      <td>0004_01</td>\n",
       "      <td>Earth</td>\n",
       "      <td>False</td>\n",
       "      <td>F/1/S</td>\n",
       "      <td>TRAPPIST-1e</td>\n",
       "      <td>16.0</td>\n",
       "      <td>False</td>\n",
       "      <td>303.0</td>\n",
       "      <td>70.0</td>\n",
       "      <td>151.0</td>\n",
       "      <td>565.0</td>\n",
       "      <td>2.0</td>\n",
       "      <td>Willy Santantines</td>\n",
       "      <td>True</td>\n",
       "    </tr>\n",
       "  </tbody>\n",
       "</table>\n",
       "</div>"
      ],
      "text/plain": [
       "  PassengerId HomePlanet CryoSleep  Cabin  Destination   Age    VIP  \\\n",
       "0     0001_01     Europa     False  B/0/P  TRAPPIST-1e  39.0  False   \n",
       "1     0002_01      Earth     False  F/0/S  TRAPPIST-1e  24.0  False   \n",
       "2     0003_01     Europa     False  A/0/S  TRAPPIST-1e  58.0   True   \n",
       "3     0003_02     Europa     False  A/0/S  TRAPPIST-1e  33.0  False   \n",
       "4     0004_01      Earth     False  F/1/S  TRAPPIST-1e  16.0  False   \n",
       "\n",
       "   RoomService  FoodCourt  ShoppingMall     Spa  VRDeck               Name  \\\n",
       "0          0.0        0.0           0.0     0.0     0.0    Maham Ofracculy   \n",
       "1        109.0        9.0          25.0   549.0    44.0       Juanna Vines   \n",
       "2         43.0     3576.0           0.0  6715.0    49.0      Altark Susent   \n",
       "3          0.0     1283.0         371.0  3329.0   193.0       Solam Susent   \n",
       "4        303.0       70.0         151.0   565.0     2.0  Willy Santantines   \n",
       "\n",
       "   Transported  \n",
       "0        False  \n",
       "1         True  \n",
       "2        False  \n",
       "3        False  \n",
       "4         True  "
      ]
     },
     "execution_count": 4,
     "metadata": {},
     "output_type": "execute_result"
    }
   ],
   "source": [
    "train_dataset = pd.read_csv(path_join('data', 'train.csv'))\n",
    "test_dataset = pd.read_csv(path_join('data', 'test.csv'))\n",
    "\n",
    "print('Размер тренировочного датасета:', train_dataset.shape)\n",
    "print('Размер тестового датасета:', test_dataset.shape)\n",
    "\n",
    "train_dataset.head()"
   ]
  },
  {
   "cell_type": "markdown",
   "metadata": {},
   "source": [
    "## EDA - разведочный анализ данных  "
   ]
  },
  {
   "cell_type": "markdown",
   "metadata": {},
   "source": [
    "### Гипотезы  \n",
    "\n",
    "* Имя и фамилия вряд ли будут полезны.  \n",
    "* Пассажиры, бывшие в анабиозе, в большей степени были транспортированы в другое измерение.  "
   ]
  },
  {
   "cell_type": "markdown",
   "metadata": {},
   "source": [
    "### Основная информация о датасете и признаках  "
   ]
  },
  {
   "cell_type": "code",
   "execution_count": 5,
   "metadata": {},
   "outputs": [],
   "source": [
    "data = train_dataset.copy()"
   ]
  },
  {
   "cell_type": "code",
   "execution_count": 6,
   "metadata": {},
   "outputs": [
    {
     "name": "stdout",
     "output_type": "stream",
     "text": [
      "<class 'pandas.core.frame.DataFrame'>\n",
      "RangeIndex: 8693 entries, 0 to 8692\n",
      "Data columns (total 14 columns):\n",
      " #   Column        Non-Null Count  Dtype  \n",
      "---  ------        --------------  -----  \n",
      " 0   PassengerId   8693 non-null   object \n",
      " 1   HomePlanet    8492 non-null   object \n",
      " 2   CryoSleep     8476 non-null   object \n",
      " 3   Cabin         8494 non-null   object \n",
      " 4   Destination   8511 non-null   object \n",
      " 5   Age           8514 non-null   float64\n",
      " 6   VIP           8490 non-null   object \n",
      " 7   RoomService   8512 non-null   float64\n",
      " 8   FoodCourt     8510 non-null   float64\n",
      " 9   ShoppingMall  8485 non-null   float64\n",
      " 10  Spa           8510 non-null   float64\n",
      " 11  VRDeck        8505 non-null   float64\n",
      " 12  Name          8493 non-null   object \n",
      " 13  Transported   8693 non-null   bool   \n",
      "dtypes: bool(1), float64(6), object(7)\n",
      "memory usage: 891.5+ KB\n"
     ]
    }
   ],
   "source": [
    "data.info()"
   ]
  },
  {
   "cell_type": "code",
   "execution_count": 7,
   "metadata": {},
   "outputs": [
    {
     "data": {
      "text/html": [
       "<div>\n",
       "<style scoped>\n",
       "    .dataframe tbody tr th:only-of-type {\n",
       "        vertical-align: middle;\n",
       "    }\n",
       "\n",
       "    .dataframe tbody tr th {\n",
       "        vertical-align: top;\n",
       "    }\n",
       "\n",
       "    .dataframe thead th {\n",
       "        text-align: right;\n",
       "    }\n",
       "</style>\n",
       "<table border=\"1\" class=\"dataframe\">\n",
       "  <thead>\n",
       "    <tr style=\"text-align: right;\">\n",
       "      <th></th>\n",
       "      <th>Age</th>\n",
       "      <th>RoomService</th>\n",
       "      <th>FoodCourt</th>\n",
       "      <th>ShoppingMall</th>\n",
       "      <th>Spa</th>\n",
       "      <th>VRDeck</th>\n",
       "    </tr>\n",
       "  </thead>\n",
       "  <tbody>\n",
       "    <tr>\n",
       "      <th>count</th>\n",
       "      <td>8514.000000</td>\n",
       "      <td>8512.000000</td>\n",
       "      <td>8510.000000</td>\n",
       "      <td>8485.000000</td>\n",
       "      <td>8510.000000</td>\n",
       "      <td>8505.000000</td>\n",
       "    </tr>\n",
       "    <tr>\n",
       "      <th>mean</th>\n",
       "      <td>28.827930</td>\n",
       "      <td>224.687617</td>\n",
       "      <td>458.077203</td>\n",
       "      <td>173.729169</td>\n",
       "      <td>311.138778</td>\n",
       "      <td>304.854791</td>\n",
       "    </tr>\n",
       "    <tr>\n",
       "      <th>std</th>\n",
       "      <td>14.489021</td>\n",
       "      <td>666.717663</td>\n",
       "      <td>1611.489240</td>\n",
       "      <td>604.696458</td>\n",
       "      <td>1136.705535</td>\n",
       "      <td>1145.717189</td>\n",
       "    </tr>\n",
       "    <tr>\n",
       "      <th>min</th>\n",
       "      <td>0.000000</td>\n",
       "      <td>0.000000</td>\n",
       "      <td>0.000000</td>\n",
       "      <td>0.000000</td>\n",
       "      <td>0.000000</td>\n",
       "      <td>0.000000</td>\n",
       "    </tr>\n",
       "    <tr>\n",
       "      <th>25%</th>\n",
       "      <td>19.000000</td>\n",
       "      <td>0.000000</td>\n",
       "      <td>0.000000</td>\n",
       "      <td>0.000000</td>\n",
       "      <td>0.000000</td>\n",
       "      <td>0.000000</td>\n",
       "    </tr>\n",
       "    <tr>\n",
       "      <th>50%</th>\n",
       "      <td>27.000000</td>\n",
       "      <td>0.000000</td>\n",
       "      <td>0.000000</td>\n",
       "      <td>0.000000</td>\n",
       "      <td>0.000000</td>\n",
       "      <td>0.000000</td>\n",
       "    </tr>\n",
       "    <tr>\n",
       "      <th>75%</th>\n",
       "      <td>38.000000</td>\n",
       "      <td>47.000000</td>\n",
       "      <td>76.000000</td>\n",
       "      <td>27.000000</td>\n",
       "      <td>59.000000</td>\n",
       "      <td>46.000000</td>\n",
       "    </tr>\n",
       "    <tr>\n",
       "      <th>max</th>\n",
       "      <td>79.000000</td>\n",
       "      <td>14327.000000</td>\n",
       "      <td>29813.000000</td>\n",
       "      <td>23492.000000</td>\n",
       "      <td>22408.000000</td>\n",
       "      <td>24133.000000</td>\n",
       "    </tr>\n",
       "  </tbody>\n",
       "</table>\n",
       "</div>"
      ],
      "text/plain": [
       "               Age   RoomService     FoodCourt  ShoppingMall           Spa  \\\n",
       "count  8514.000000   8512.000000   8510.000000   8485.000000   8510.000000   \n",
       "mean     28.827930    224.687617    458.077203    173.729169    311.138778   \n",
       "std      14.489021    666.717663   1611.489240    604.696458   1136.705535   \n",
       "min       0.000000      0.000000      0.000000      0.000000      0.000000   \n",
       "25%      19.000000      0.000000      0.000000      0.000000      0.000000   \n",
       "50%      27.000000      0.000000      0.000000      0.000000      0.000000   \n",
       "75%      38.000000     47.000000     76.000000     27.000000     59.000000   \n",
       "max      79.000000  14327.000000  29813.000000  23492.000000  22408.000000   \n",
       "\n",
       "             VRDeck  \n",
       "count   8505.000000  \n",
       "mean     304.854791  \n",
       "std     1145.717189  \n",
       "min        0.000000  \n",
       "25%        0.000000  \n",
       "50%        0.000000  \n",
       "75%       46.000000  \n",
       "max    24133.000000  "
      ]
     },
     "execution_count": 7,
     "metadata": {},
     "output_type": "execute_result"
    }
   ],
   "source": [
    "data.describe()"
   ]
  },
  {
   "cell_type": "code",
   "execution_count": 8,
   "metadata": {},
   "outputs": [
    {
     "data": {
      "text/html": [
       "<div>\n",
       "<style scoped>\n",
       "    .dataframe tbody tr th:only-of-type {\n",
       "        vertical-align: middle;\n",
       "    }\n",
       "\n",
       "    .dataframe tbody tr th {\n",
       "        vertical-align: top;\n",
       "    }\n",
       "\n",
       "    .dataframe thead th {\n",
       "        text-align: right;\n",
       "    }\n",
       "</style>\n",
       "<table border=\"1\" class=\"dataframe\">\n",
       "  <thead>\n",
       "    <tr style=\"text-align: right;\">\n",
       "      <th></th>\n",
       "      <th>PassengerId</th>\n",
       "      <th>HomePlanet</th>\n",
       "      <th>CryoSleep</th>\n",
       "      <th>Cabin</th>\n",
       "      <th>Destination</th>\n",
       "      <th>VIP</th>\n",
       "      <th>Name</th>\n",
       "      <th>Transported</th>\n",
       "    </tr>\n",
       "  </thead>\n",
       "  <tbody>\n",
       "    <tr>\n",
       "      <th>count</th>\n",
       "      <td>8693</td>\n",
       "      <td>8492</td>\n",
       "      <td>8476</td>\n",
       "      <td>8494</td>\n",
       "      <td>8511</td>\n",
       "      <td>8490</td>\n",
       "      <td>8493</td>\n",
       "      <td>8693</td>\n",
       "    </tr>\n",
       "    <tr>\n",
       "      <th>unique</th>\n",
       "      <td>8693</td>\n",
       "      <td>3</td>\n",
       "      <td>2</td>\n",
       "      <td>6560</td>\n",
       "      <td>3</td>\n",
       "      <td>2</td>\n",
       "      <td>8473</td>\n",
       "      <td>2</td>\n",
       "    </tr>\n",
       "    <tr>\n",
       "      <th>top</th>\n",
       "      <td>0001_01</td>\n",
       "      <td>Earth</td>\n",
       "      <td>False</td>\n",
       "      <td>G/734/S</td>\n",
       "      <td>TRAPPIST-1e</td>\n",
       "      <td>False</td>\n",
       "      <td>Gollux Reedall</td>\n",
       "      <td>True</td>\n",
       "    </tr>\n",
       "    <tr>\n",
       "      <th>freq</th>\n",
       "      <td>1</td>\n",
       "      <td>4602</td>\n",
       "      <td>5439</td>\n",
       "      <td>8</td>\n",
       "      <td>5915</td>\n",
       "      <td>8291</td>\n",
       "      <td>2</td>\n",
       "      <td>4378</td>\n",
       "    </tr>\n",
       "  </tbody>\n",
       "</table>\n",
       "</div>"
      ],
      "text/plain": [
       "       PassengerId HomePlanet CryoSleep    Cabin  Destination    VIP  \\\n",
       "count         8693       8492      8476     8494         8511   8490   \n",
       "unique        8693          3         2     6560            3      2   \n",
       "top        0001_01      Earth     False  G/734/S  TRAPPIST-1e  False   \n",
       "freq             1       4602      5439        8         5915   8291   \n",
       "\n",
       "                  Name Transported  \n",
       "count             8493        8693  \n",
       "unique            8473           2  \n",
       "top     Gollux Reedall        True  \n",
       "freq                 2        4378  "
      ]
     },
     "execution_count": 8,
     "metadata": {},
     "output_type": "execute_result"
    }
   ],
   "source": [
    "data.describe(include=['object', 'bool'])"
   ]
  },
  {
   "cell_type": "markdown",
   "metadata": {},
   "source": [
    "### Целевая переменная  \n",
    "\n",
    "Целевая переменная `Transported` распределена равномерно.  "
   ]
  },
  {
   "cell_type": "code",
   "execution_count": 9,
   "metadata": {},
   "outputs": [
    {
     "data": {
      "image/png": "[encoded data removed]",
      "text/plain": [
       "<Figure size 576x432 with 1 Axes>"
      ]
     },
     "metadata": {
      "needs_background": "light"
     },
     "output_type": "display_data"
    }
   ],
   "source": [
    "plt.figure(figsize=(8,6))\n",
    "sns.countplot(x='Transported', data=data)\n",
    "plt.show()"
   ]
  },
  {
   "cell_type": "markdown",
   "metadata": {},
   "source": [
    "Зависимость целевой переменной от денег, потораченных на борту: какой-то однозначной зависимости не наблюдается."
   ]
  },
  {
   "cell_type": "code",
   "execution_count": 10,
   "metadata": {},
   "outputs": [
    {
     "data": {
      "image/png": "[encoded data removed]",
      "text/plain": [
       "<Figure size 1440x576 with 5 Axes>"
      ]
     },
     "metadata": {
      "needs_background": "light"
     },
     "output_type": "display_data"
    }
   ],
   "source": [
    "numerical_columns = ['RoomService', 'FoodCourt', 'ShoppingMall', 'Spa', 'VRDeck']\n",
    "figure, axes = plt.subplots(nrows=1, ncols=len(numerical_columns), sharey=False, figsize=(20, 8))\n",
    "figure.suptitle('Expenses vs Transported')\n",
    "\n",
    "for i, column in enumerate(numerical_columns):\n",
    "    sns.boxplot(y=data[column]**(1/3), x=data[TARGET], ax=axes[i], hue=data['CryoSleep'])"
   ]
  },
  {
   "cell_type": "markdown",
   "metadata": {},
   "source": [
    "### Более подробно  "
   ]
  },
  {
   "cell_type": "markdown",
   "metadata": {},
   "source": [
    "`PassengerId`: данные в этой колонке составлены из двух чисел: номер группы и номер самого пассажира. Что если их разделить на `PassengerGroup` и `PassengerNumber`?  "
   ]
  },
  {
   "cell_type": "code",
   "execution_count": 11,
   "metadata": {},
   "outputs": [
    {
     "data": {
      "text/html": [
       "<div>\n",
       "<style scoped>\n",
       "    .dataframe tbody tr th:only-of-type {\n",
       "        vertical-align: middle;\n",
       "    }\n",
       "\n",
       "    .dataframe tbody tr th {\n",
       "        vertical-align: top;\n",
       "    }\n",
       "\n",
       "    .dataframe thead th {\n",
       "        text-align: right;\n",
       "    }\n",
       "</style>\n",
       "<table border=\"1\" class=\"dataframe\">\n",
       "  <thead>\n",
       "    <tr style=\"text-align: right;\">\n",
       "      <th></th>\n",
       "      <th>PassengerGroup</th>\n",
       "      <th>PassengerNumber</th>\n",
       "    </tr>\n",
       "  </thead>\n",
       "  <tbody>\n",
       "    <tr>\n",
       "      <th>count</th>\n",
       "      <td>8693.000000</td>\n",
       "      <td>8693.000000</td>\n",
       "    </tr>\n",
       "    <tr>\n",
       "      <th>mean</th>\n",
       "      <td>4633.389624</td>\n",
       "      <td>1.517773</td>\n",
       "    </tr>\n",
       "    <tr>\n",
       "      <th>std</th>\n",
       "      <td>2671.028856</td>\n",
       "      <td>1.054241</td>\n",
       "    </tr>\n",
       "    <tr>\n",
       "      <th>min</th>\n",
       "      <td>1.000000</td>\n",
       "      <td>1.000000</td>\n",
       "    </tr>\n",
       "    <tr>\n",
       "      <th>25%</th>\n",
       "      <td>2319.000000</td>\n",
       "      <td>1.000000</td>\n",
       "    </tr>\n",
       "    <tr>\n",
       "      <th>50%</th>\n",
       "      <td>4630.000000</td>\n",
       "      <td>1.000000</td>\n",
       "    </tr>\n",
       "    <tr>\n",
       "      <th>75%</th>\n",
       "      <td>6883.000000</td>\n",
       "      <td>2.000000</td>\n",
       "    </tr>\n",
       "    <tr>\n",
       "      <th>max</th>\n",
       "      <td>9280.000000</td>\n",
       "      <td>8.000000</td>\n",
       "    </tr>\n",
       "  </tbody>\n",
       "</table>\n",
       "</div>"
      ],
      "text/plain": [
       "       PassengerGroup  PassengerNumber\n",
       "count     8693.000000      8693.000000\n",
       "mean      4633.389624         1.517773\n",
       "std       2671.028856         1.054241\n",
       "min          1.000000         1.000000\n",
       "25%       2319.000000         1.000000\n",
       "50%       4630.000000         1.000000\n",
       "75%       6883.000000         2.000000\n",
       "max       9280.000000         8.000000"
      ]
     },
     "execution_count": 11,
     "metadata": {},
     "output_type": "execute_result"
    }
   ],
   "source": [
    "data[['PassengerGroup', 'PassengerNumber']] = data['PassengerId'].str.split('_', expand=True)\n",
    "\n",
    "data[['PassengerGroup', 'PassengerNumber']].astype(float).describe()"
   ]
  },
  {
   "cell_type": "markdown",
   "metadata": {},
   "source": [
    "`Name`: стоит ли как-то использовать имена? Уникальных значений имен и фамилий слишком много и маловероятно, что они будут полезны. Создать из них новые признаки сложно. От имён просто избавимся.  "
   ]
  },
  {
   "cell_type": "code",
   "execution_count": 12,
   "metadata": {},
   "outputs": [
    {
     "data": {
      "text/html": [
       "<div>\n",
       "<style scoped>\n",
       "    .dataframe tbody tr th:only-of-type {\n",
       "        vertical-align: middle;\n",
       "    }\n",
       "\n",
       "    .dataframe tbody tr th {\n",
       "        vertical-align: top;\n",
       "    }\n",
       "\n",
       "    .dataframe thead th {\n",
       "        text-align: right;\n",
       "    }\n",
       "</style>\n",
       "<table border=\"1\" class=\"dataframe\">\n",
       "  <thead>\n",
       "    <tr style=\"text-align: right;\">\n",
       "      <th></th>\n",
       "      <th>FirstName</th>\n",
       "      <th>LastName</th>\n",
       "    </tr>\n",
       "  </thead>\n",
       "  <tbody>\n",
       "    <tr>\n",
       "      <th>count</th>\n",
       "      <td>8493</td>\n",
       "      <td>8493</td>\n",
       "    </tr>\n",
       "    <tr>\n",
       "      <th>unique</th>\n",
       "      <td>2706</td>\n",
       "      <td>2217</td>\n",
       "    </tr>\n",
       "    <tr>\n",
       "      <th>top</th>\n",
       "      <td>Idace</td>\n",
       "      <td>Casonston</td>\n",
       "    </tr>\n",
       "    <tr>\n",
       "      <th>freq</th>\n",
       "      <td>13</td>\n",
       "      <td>18</td>\n",
       "    </tr>\n",
       "  </tbody>\n",
       "</table>\n",
       "</div>"
      ],
      "text/plain": [
       "       FirstName   LastName\n",
       "count       8493       8493\n",
       "unique      2706       2217\n",
       "top        Idace  Casonston\n",
       "freq          13         18"
      ]
     },
     "execution_count": 12,
     "metadata": {},
     "output_type": "execute_result"
    }
   ],
   "source": [
    "data['FirstName'] = data['Name'].apply(lambda x: None if pd.isna(x) else x.split()[0])\n",
    "data['LastName'] = data['Name'].apply(lambda x: None if pd.isna(x) else x.split()[1])\n",
    "\n",
    "data[['FirstName', 'LastName']].describe()"
   ]
  },
  {
   "cell_type": "markdown",
   "metadata": {},
   "source": [
    "`Cabin`: если разделить данные в колонке, можно получить вполне полезные признаки.  \n",
    "Пропуски в `CabinDeck` и `CabinSide` можно заполнить самым частым значением, а пропуски в `CabinNumber` неудобно заполнить ни средним, ни самым частым значением поэтому заполним его новым значением - тем, что больше макисмального на 1.  "
   ]
  },
  {
   "cell_type": "code",
   "execution_count": 13,
   "metadata": {},
   "outputs": [
    {
     "name": "stdout",
     "output_type": "stream",
     "text": [
      "Максимальное значение в CabinNumber: 1894\n"
     ]
    },
    {
     "data": {
      "text/html": [
       "<div>\n",
       "<style scoped>\n",
       "    .dataframe tbody tr th:only-of-type {\n",
       "        vertical-align: middle;\n",
       "    }\n",
       "\n",
       "    .dataframe tbody tr th {\n",
       "        vertical-align: top;\n",
       "    }\n",
       "\n",
       "    .dataframe thead th {\n",
       "        text-align: right;\n",
       "    }\n",
       "</style>\n",
       "<table border=\"1\" class=\"dataframe\">\n",
       "  <thead>\n",
       "    <tr style=\"text-align: right;\">\n",
       "      <th></th>\n",
       "      <th>CabinDeck</th>\n",
       "      <th>CabinNumber</th>\n",
       "      <th>CabinSide</th>\n",
       "    </tr>\n",
       "  </thead>\n",
       "  <tbody>\n",
       "    <tr>\n",
       "      <th>count</th>\n",
       "      <td>8494</td>\n",
       "      <td>8494</td>\n",
       "      <td>8494</td>\n",
       "    </tr>\n",
       "    <tr>\n",
       "      <th>unique</th>\n",
       "      <td>8</td>\n",
       "      <td>1817</td>\n",
       "      <td>2</td>\n",
       "    </tr>\n",
       "    <tr>\n",
       "      <th>top</th>\n",
       "      <td>F</td>\n",
       "      <td>82</td>\n",
       "      <td>S</td>\n",
       "    </tr>\n",
       "    <tr>\n",
       "      <th>freq</th>\n",
       "      <td>2794</td>\n",
       "      <td>28</td>\n",
       "      <td>4288</td>\n",
       "    </tr>\n",
       "  </tbody>\n",
       "</table>\n",
       "</div>"
      ],
      "text/plain": [
       "       CabinDeck CabinNumber CabinSide\n",
       "count       8494        8494      8494\n",
       "unique         8        1817         2\n",
       "top            F          82         S\n",
       "freq        2794          28      4288"
      ]
     },
     "execution_count": 13,
     "metadata": {},
     "output_type": "execute_result"
    }
   ],
   "source": [
    "data['CabinDeck'] = data['Cabin'].apply(lambda x: None if pd.isna(x) else x.split('/')[0])\n",
    "data['CabinNumber'] = data['Cabin'].apply(lambda x: None if pd.isna(x) else x.split('/')[1])\n",
    "data['CabinSide'] = data['Cabin'].apply(lambda x: None if pd.isna(x) else x.split('/')[2])\n",
    "\n",
    "max_num = data['CabinNumber'].dropna().astype(int).max()\n",
    "print('Максимальное значение в CabinNumber:', max_num)\n",
    "data[['CabinDeck', 'CabinNumber', 'CabinSide']].describe()"
   ]
  },
  {
   "cell_type": "markdown",
   "metadata": {},
   "source": [
    "`RoomService`, `FoodCourt`, `ShoppingMall`, `Spa`, `VRDeck`: может оказаться полезным признак всех трат `TotalExpenses`. Этот новый признак показывает, что половина пассажиров так или иначе тратят деньги. Больше всего денег тратится на еду, а меньше всего на спа."
   ]
  },
  {
   "cell_type": "code",
   "execution_count": 14,
   "metadata": {},
   "outputs": [
    {
     "data": {
      "text/html": [
       "<div>\n",
       "<style scoped>\n",
       "    .dataframe tbody tr th:only-of-type {\n",
       "        vertical-align: middle;\n",
       "    }\n",
       "\n",
       "    .dataframe tbody tr th {\n",
       "        vertical-align: top;\n",
       "    }\n",
       "\n",
       "    .dataframe thead th {\n",
       "        text-align: right;\n",
       "    }\n",
       "</style>\n",
       "<table border=\"1\" class=\"dataframe\">\n",
       "  <thead>\n",
       "    <tr style=\"text-align: right;\">\n",
       "      <th></th>\n",
       "      <th>RoomService</th>\n",
       "      <th>FoodCourt</th>\n",
       "      <th>ShoppingMall</th>\n",
       "      <th>Spa</th>\n",
       "      <th>VRDeck</th>\n",
       "      <th>TotalExpenses</th>\n",
       "    </tr>\n",
       "  </thead>\n",
       "  <tbody>\n",
       "    <tr>\n",
       "      <th>count</th>\n",
       "      <td>8512.000000</td>\n",
       "      <td>8510.000000</td>\n",
       "      <td>8485.000000</td>\n",
       "      <td>8510.000000</td>\n",
       "      <td>8505.000000</td>\n",
       "      <td>8693.000000</td>\n",
       "    </tr>\n",
       "    <tr>\n",
       "      <th>mean</th>\n",
       "      <td>224.687617</td>\n",
       "      <td>458.077203</td>\n",
       "      <td>173.729169</td>\n",
       "      <td>311.138778</td>\n",
       "      <td>304.854791</td>\n",
       "      <td>1440.866329</td>\n",
       "    </tr>\n",
       "    <tr>\n",
       "      <th>std</th>\n",
       "      <td>666.717663</td>\n",
       "      <td>1611.489240</td>\n",
       "      <td>604.696458</td>\n",
       "      <td>1136.705535</td>\n",
       "      <td>1145.717189</td>\n",
       "      <td>2803.045694</td>\n",
       "    </tr>\n",
       "    <tr>\n",
       "      <th>min</th>\n",
       "      <td>0.000000</td>\n",
       "      <td>0.000000</td>\n",
       "      <td>0.000000</td>\n",
       "      <td>0.000000</td>\n",
       "      <td>0.000000</td>\n",
       "      <td>0.000000</td>\n",
       "    </tr>\n",
       "    <tr>\n",
       "      <th>25%</th>\n",
       "      <td>0.000000</td>\n",
       "      <td>0.000000</td>\n",
       "      <td>0.000000</td>\n",
       "      <td>0.000000</td>\n",
       "      <td>0.000000</td>\n",
       "      <td>0.000000</td>\n",
       "    </tr>\n",
       "    <tr>\n",
       "      <th>50%</th>\n",
       "      <td>0.000000</td>\n",
       "      <td>0.000000</td>\n",
       "      <td>0.000000</td>\n",
       "      <td>0.000000</td>\n",
       "      <td>0.000000</td>\n",
       "      <td>716.000000</td>\n",
       "    </tr>\n",
       "    <tr>\n",
       "      <th>75%</th>\n",
       "      <td>47.000000</td>\n",
       "      <td>76.000000</td>\n",
       "      <td>27.000000</td>\n",
       "      <td>59.000000</td>\n",
       "      <td>46.000000</td>\n",
       "      <td>1441.000000</td>\n",
       "    </tr>\n",
       "    <tr>\n",
       "      <th>max</th>\n",
       "      <td>14327.000000</td>\n",
       "      <td>29813.000000</td>\n",
       "      <td>23492.000000</td>\n",
       "      <td>22408.000000</td>\n",
       "      <td>24133.000000</td>\n",
       "      <td>35987.000000</td>\n",
       "    </tr>\n",
       "  </tbody>\n",
       "</table>\n",
       "</div>"
      ],
      "text/plain": [
       "        RoomService     FoodCourt  ShoppingMall           Spa        VRDeck  \\\n",
       "count   8512.000000   8510.000000   8485.000000   8510.000000   8505.000000   \n",
       "mean     224.687617    458.077203    173.729169    311.138778    304.854791   \n",
       "std      666.717663   1611.489240    604.696458   1136.705535   1145.717189   \n",
       "min        0.000000      0.000000      0.000000      0.000000      0.000000   \n",
       "25%        0.000000      0.000000      0.000000      0.000000      0.000000   \n",
       "50%        0.000000      0.000000      0.000000      0.000000      0.000000   \n",
       "75%       47.000000     76.000000     27.000000     59.000000     46.000000   \n",
       "max    14327.000000  29813.000000  23492.000000  22408.000000  24133.000000   \n",
       "\n",
       "       TotalExpenses  \n",
       "count    8693.000000  \n",
       "mean     1440.866329  \n",
       "std      2803.045694  \n",
       "min         0.000000  \n",
       "25%         0.000000  \n",
       "50%       716.000000  \n",
       "75%      1441.000000  \n",
       "max     35987.000000  "
      ]
     },
     "execution_count": 14,
     "metadata": {},
     "output_type": "execute_result"
    }
   ],
   "source": [
    "\n",
    "columns_for_summing = ['RoomService', 'FoodCourt', 'ShoppingMall', 'Spa', 'VRDeck']\n",
    "data['TotalExpenses'] = data[columns_for_summing].fillna(0.0).sum(axis=1)   \n",
    "\n",
    "data[columns_for_summing + ['TotalExpenses']].describe()"
   ]
  },
  {
   "cell_type": "markdown",
   "metadata": {},
   "source": [
    "`Age`: какоё-то значительной разницы в возрасте между транспортированными в иное измерение и нет, не наблюдается. Зато наблюдаются выбросы для возрастов >65."
   ]
  },
  {
   "cell_type": "code",
   "execution_count": 15,
   "metadata": {},
   "outputs": [
    {
     "data": {
      "text/plain": [
       "<AxesSubplot:xlabel='Transported', ylabel='Age'>"
      ]
     },
     "execution_count": 15,
     "metadata": {},
     "output_type": "execute_result"
    },
    {
     "data": {
      "image/png": "[encoded data removed]",
      "text/plain": [
       "<Figure size 432x288 with 1 Axes>"
      ]
     },
     "metadata": {
      "needs_background": "light"
     },
     "output_type": "display_data"
    }
   ],
   "source": [
    "sns.boxplot(y=data['Age'], x=data['Transported'])"
   ]
  },
  {
   "cell_type": "markdown",
   "metadata": {},
   "source": [
    "### Корреляции  \n",
    "\n",
    "Из корреляций может быть интересно:  \n",
    "* между `CryoSleep` и `Transported`;  \n",
    "* между `CabinNumber` и `PassengerGroup` - и в целом зависимость понятна: пассажиры одной группы часто родственники, которые и занимают общую кабину.  "
   ]
  },
  {
   "cell_type": "code",
   "execution_count": 16,
   "metadata": {},
   "outputs": [
    {
     "data": {
      "image/png": "[encoded data removed]",
      "text/plain": [
       "<Figure size 864x576 with 2 Axes>"
      ]
     },
     "metadata": {
      "needs_background": "light"
     },
     "output_type": "display_data"
    }
   ],
   "source": [
    "for column in data.drop(columns=['PassengerId']).columns:\n",
    "    data[column] = data[column].astype(float, errors='ignore')\n",
    "\n",
    "plt.figure(figsize=(12, 8))\n",
    "plt.title('Корреляция признаков в датасете')\n",
    "sns.heatmap(data.corr(), annot=True, fmt='0.1f')\n",
    "plt.show()"
   ]
  },
  {
   "cell_type": "markdown",
   "metadata": {},
   "source": [
    "Корреляция между `CryoSleep` и `Transported`:  \n",
    "* большинство пассажиров в анабиозе были транспортированы в другое измерение;  \n",
    "* те, кто не был в анабиозе, по большей части спаслись.  "
   ]
  },
  {
   "cell_type": "code",
   "execution_count": 17,
   "metadata": {},
   "outputs": [
    {
     "data": {
      "image/png": "[encoded data removed]",
      "text/plain": [
       "<Figure size 864x576 with 1 Axes>"
      ]
     },
     "metadata": {
      "needs_background": "light"
     },
     "output_type": "display_data"
    }
   ],
   "source": [
    "cryosleep_transported = (\n",
    "    data.groupby(['CryoSleep'])['Transported']\n",
    "    .value_counts(normalize=True)\n",
    "    .rename('Percentage')\n",
    "    .mul(100)\n",
    "    .reset_index()\n",
    "    .sort_values('CryoSleep'))\n",
    "\n",
    "plt.figure(figsize=(12, 8))\n",
    "plt.title('Процент транспортированных пассажиров в зависимости от анабиоза')\n",
    "sns.barplot(x='CryoSleep', y='Percentage', hue='Transported', data=cryosleep_transported)\n",
    "plt.xlabel('В анабиозе?')\n",
    "plt.ylabel('Процент')\n",
    "plt.show()"
   ]
  },
  {
   "cell_type": "markdown",
   "metadata": {},
   "source": [
    "### Выбросы  \n",
    "\n",
    "Взлянем на возможные выбросы в численных признаках. Выбросов много, избавлюсь от них, взяв корень от значений."
   ]
  },
  {
   "cell_type": "code",
   "execution_count": 18,
   "metadata": {},
   "outputs": [
    {
     "data": {
      "image/png": "[encoded data removed]",
      "text/plain": [
       "<Figure size 1512x576 with 7 Axes>"
      ]
     },
     "metadata": {
      "needs_background": "light"
     },
     "output_type": "display_data"
    }
   ],
   "source": [
    "numerical_columns = ['Age', 'RoomService', 'FoodCourt', 'ShoppingMall', 'Spa', 'VRDeck', 'TotalExpenses']\n",
    "\n",
    "fig, axes = plt.subplots(nrows=1, ncols=len(numerical_columns), figsize=(3*len(numerical_columns), 8))\n",
    "for i, column in enumerate(numerical_columns):\n",
    "    to_show = data[[column]]\n",
    "    sns.boxplot(data=to_show, ax=axes[i])\n",
    "    axes[i].set_title(column)"
   ]
  },
  {
   "cell_type": "markdown",
   "metadata": {},
   "source": [
    "## Data Preparation  \n",
    "\n",
    "Преобразование данных будет проводиться через pipeline библиотеки sklearn.  "
   ]
  },
  {
   "cell_type": "code",
   "execution_count": 19,
   "metadata": {},
   "outputs": [],
   "source": [
    "class DataFrameColumnTransformer(ColumnTransformer): \n",
    "    \"\"\"Кастомный трансформер колонок, который возвращает pd.DataFrame, а не массив numpy.\"\"\"\n",
    "\n",
    "    def get_names(self) -> list[str]:\n",
    "        names = self.get_feature_names_out()\n",
    "        names = [n.split('__')[-1] for n in names]\n",
    "        return names\n",
    "\n",
    "    def transform(self, X: pd.DataFrame) -> pd.DataFrame:\n",
    "        result = super().transform(X)\n",
    "        names = self.get_names()\n",
    "        for i, name in enumerate(names):\n",
    "            X[name] = result[:, i]\n",
    "            X[name] = X[name].astype(float, errors='ignore')\n",
    "        return X\n",
    "    \n",
    "    def fit_transform(self, X: pd.DataFrame, y: pd.Series | None = None) -> pd.DataFrame:\n",
    "        result = super().fit_transform(X, y)\n",
    "        names = self.get_names()\n",
    "        for i, name in enumerate(names):\n",
    "            X[name] = result[:, i]\n",
    "            X[name] = X[name].astype(float, errors='ignore')\n",
    "        return X"
   ]
  },
  {
   "cell_type": "markdown",
   "metadata": {},
   "source": [
    "### Разделение колонок  \n",
    "\n",
    "Информация в некоторых колонках содержит больше одного признака. Их стоит разделить.  \n",
    "Колонку `PassengerId` можно разделить на группу `PassengerGroup` и номер пассажира `PassengerNumber`.  \n",
    "Колонку `Cabin` можно разделить на палубу `CabinDeck`, номер `CabinNumber` и сторону `CabinSide`.  \n",
    "Колонку `Name` можно было бы разделить, но она бесполезна."
   ]
  },
  {
   "cell_type": "code",
   "execution_count": 20,
   "metadata": {},
   "outputs": [],
   "source": [
    "def separate_columns(data: pd.DataFrame) -> pd.DataFrame:\n",
    "    \"\"\"Разделяет колонки, в которых много значений:\n",
    "    * `PassengerId` -> `PassengerGroup` и `PassengerNumber`; \n",
    "    * `Cabin` -> `CabinDeck`, `CabinNumber` и `CabinSide`; \n",
    "    \"\"\"\n",
    "\n",
    "    data = data.copy()\n",
    "\n",
    "    data[['PassengerGroup', 'PassengerNumber']] = data['PassengerId'].str.split('_', expand=True)\n",
    "    data[['CabinDeck', 'CabinNumber', 'CabinSide']] = data['Cabin'].str.split('/', expand=True)\n",
    "\n",
    "    columns_to_float = ['PassengerGroup', 'PassengerNumber', 'CabinNumber']\n",
    "    data[columns_to_float] = data[columns_to_float].astype(float)\n",
    "\n",
    "    return data\n",
    "\n",
    "columns_separator = FunctionTransformer(separate_columns)"
   ]
  },
  {
   "cell_type": "markdown",
   "metadata": {},
   "source": [
    "### Заполнение пропусков  \n",
    "\n",
    "Во всех колонках, кроме id пассажира и целевой переменной, есть пропуски.  \n",
    "Пропуски в колонке `Age` можно заполнить средним значением.  \n",
    "Пропуски в колонках `HomePlanet`, `CryoSleep`, `Destination`, `VIP`, `CabinDeck`, `CabinSide` можно заполнить самым частым значением.  \n",
    "Пропуски в колонках `RoomService`, `FoodCourt`, `ShoppingMall`, `Spa`, `VRDeck` можно заполнить 0, как самым частым значением и мединой.\n",
    "Пропуски в колонке `CabinNumber` можно заполнить новым значением, большим максимального на 1.  "
   ]
  },
  {
   "cell_type": "code",
   "execution_count": 21,
   "metadata": {},
   "outputs": [],
   "source": [
    "class MaxMoreImputer(BaseEstimator, TransformerMixin):\n",
    "    \"\"\"Класс для заполнения пропущенных значений. \n",
    "    Пустые значения заполняются максимальным значением колонки, увеличенных на значение `step`.\n",
    "    \"\"\"\n",
    "\n",
    "    def __init__(self, step: float = 1.0) -> None:\n",
    "        super().__init__()\n",
    "        self.step = step\n",
    "        self._features_names = None\n",
    "        self._impute_value = None\n",
    "    \n",
    "    def fit(self, X: npt.ArrayLike, y: npt.ArrayLike | None = None) -> 'MaxMoreImputer':\n",
    "        self._impute_value = X.astype(float).max()\n",
    "        self._features_names = X.columns\n",
    "        return self\n",
    "    \n",
    "    def transform(self, X: npt.ArrayLike, y: npt.ArrayLike | None = None) -> np.ndarray:\n",
    "        check_is_fitted(self, '_impute_value')\n",
    "        return X.fillna(self._impute_value + self.step)\n",
    "    \n",
    "    def get_feature_names_out(self, input_features: npt.ArrayLike | None = None) -> np.ndarray:\n",
    "        check_is_fitted(self, '_features_names')\n",
    "        return self._features_names"
   ]
  },
  {
   "cell_type": "code",
   "execution_count": 22,
   "metadata": {},
   "outputs": [],
   "source": [
    "missings_filler = DataFrameColumnTransformer(transformers=[\n",
    "    ('age_imputer', SimpleImputer(strategy='mean'), ['Age']), \n",
    "    ('mode_imputer', SimpleImputer(strategy='most_frequent'), \n",
    "     ['HomePlanet', 'CryoSleep', 'Destination', 'VIP', 'CabinDeck', 'CabinSide']), \n",
    "    ('zero_imputer', SimpleImputer(strategy='constant', fill_value=0.0), \n",
    "     ['RoomService', 'FoodCourt', 'ShoppingMall', 'Spa', 'VRDeck']), \n",
    "    ('cabin_number_imputer', MaxMoreImputer(), ['CabinNumber']), \n",
    "], remainder='passthrough')"
   ]
  },
  {
   "cell_type": "markdown",
   "metadata": {},
   "source": [
    "### Feature Engineering  \n",
    "\n",
    "Можно создать признак `AgeCategory`, показывающий возрастную группу пассажира.  \n",
    "Также было бы неплохо создать признак, содержащий общую сумму трат `TotalExpenses`.  \n",
    "Для численных признаков можно добавить такие характеристики как квадратный корень, квадрат и т.д."
   ]
  },
  {
   "cell_type": "code",
   "execution_count": 23,
   "metadata": {},
   "outputs": [],
   "source": [
    "def create_features(data: pd.DataFrame) -> pd.DataFrame:\n",
    "    \"\"\"Создаёт новые признаки: \n",
    "    * `AgeCategory` в качестве уровня возраста;\n",
    "    * `TotalExpenses` как сумма `RoomService`, `FoodCourt`, `ShoppingMall`, `Spa` и `VRDeck`;\n",
    "    * `ExpensesCategory` для определения нищих и мажоров;\n",
    "    * Новые численные признаки из старых.\n",
    "    \"\"\"\n",
    "\n",
    "    data = data.copy()\n",
    "\n",
    "    def get_age_category(age: float) -> str: \n",
    "        categories = ['child', 'young', 'average', 'old']\n",
    "        number = int(age > 20) + int(age > 40) + int(age > 60)\n",
    "        return categories[number]\n",
    "    data['AgeCategory'] = data['Age'].apply(get_age_category)\n",
    "\n",
    "    columns_for_summation = ['RoomService', 'FoodCourt', 'ShoppingMall', 'Spa', 'VRDeck']\n",
    "    data['TotalExpenses'] = data[columns_for_summation].sum(axis=1)    \n",
    "\n",
    "    def get_expenses_category(expenses: float) -> str: \n",
    "        categories = ['zero', '<2500', '<7500', '>7500']\n",
    "        number = int(expenses > 0) + int(expenses > 2500) + int(expenses > 7500)\n",
    "        return categories[number]\n",
    "    data['ExpensesCategory'] = data['TotalExpenses'].apply(get_age_category)\n",
    "\n",
    "    numerical_columns = ['RoomService', 'FoodCourt', 'ShoppingMall', 'Spa', 'VRDeck', 'Age', 'TotalExpenses']\n",
    "    data[['Sqrt' + c for c in numerical_columns]] = data[numerical_columns] ** 0.5\n",
    "    data[['Pow2' + c for c in numerical_columns]] = data[numerical_columns] ** 2\n",
    "    data[['SqrtSqrt' + c for c in numerical_columns]] = data[numerical_columns] ** 0.25\n",
    "    data[['Pow4' + c for c in numerical_columns]] = data[numerical_columns] ** 4\n",
    "    \n",
    "    return data\n",
    "\n",
    "features_creator = FunctionTransformer(create_features)"
   ]
  },
  {
   "cell_type": "markdown",
   "metadata": {},
   "source": [
    "### Нормализация и one-hot кодирование\n",
    "\n",
    "Нормализация осуществляется с помощью StandardScaler, а кодирование - с помощью OneHotEncoder."
   ]
  },
  {
   "cell_type": "code",
   "execution_count": 24,
   "metadata": {},
   "outputs": [],
   "source": [
    "normalizer_encoder = DataFrameColumnTransformer(transformers=[\n",
    "    ('scaler', StandardScaler(), make_column_selector(dtype_include=float)),\n",
    "    ('encoder', OneHotEncoder(sparse=False, handle_unknown='ignore'), make_column_selector(dtype_include=object))\n",
    "], remainder='passthrough')"
   ]
  },
  {
   "cell_type": "markdown",
   "metadata": {},
   "source": [
    "### Удаление ненужных колонок  \n",
    "\n"
   ]
  },
  {
   "cell_type": "code",
   "execution_count": 25,
   "metadata": {},
   "outputs": [],
   "source": [
    "def remove_columns(data: pd.DataFrame, columns: Hashable | Sequence[Hashable] | pd.Index | None = None) -> pd.DataFrame:\n",
    "    \"\"\"Удаляет ненужные колонки, по умолчанию:  \n",
    "    \n",
    "    `PassengerId`, `HomePlanet`, `Cabin`, `Destination`, `Name`,  \n",
    "    `CabinDeck`, `CabinSide`, `AgeCategory`, `ExpensesCategory`.\n",
    "    \"\"\"\n",
    "\n",
    "    data = data.copy()\n",
    "\n",
    "    columns = columns or ['PassengerId', 'Cabin', 'Name', 'HomePlanet', 'Destination', \n",
    "                          'CabinDeck', 'CabinSide', 'AgeCategory', 'ExpensesCategory'] \n",
    "    data = data.drop(columns=columns, errors='ignore')\n",
    "\n",
    "    return data\n",
    "\n",
    "# Удалим Cabin и Name заранее, чтобы они не попали в one-hot encoder\n",
    "remove_cabin_name = partial(remove_columns, columns=['Cabin', 'Name'])\n",
    "cabin_name_remover = FunctionTransformer(remove_cabin_name)\n",
    "columns_remover = FunctionTransformer(remove_columns)"
   ]
  },
  {
   "cell_type": "markdown",
   "metadata": {},
   "source": [
    "### Сборка пайплайна  \n",
    "\n",
    "Соберём все запланированные шаги подготовки данных в единый пайплайн.  "
   ]
  },
  {
   "cell_type": "code",
   "execution_count": 26,
   "metadata": {},
   "outputs": [],
   "source": [
    "preprocessor = Pipeline(steps=[\n",
    "    ('columns_separation', columns_separator), \n",
    "    ('filling_missing', missings_filler), \n",
    "    ('feature_engineering', features_creator), \n",
    "    ('cabin_name_removing', cabin_name_remover), \n",
    "    ('normalization_encoding', normalizer_encoder), \n",
    "    ('feature_selection', columns_remover), \n",
    "])"
   ]
  },
  {
   "cell_type": "markdown",
   "metadata": {},
   "source": [
    "## Modeling  "
   ]
  },
  {
   "cell_type": "markdown",
   "metadata": {},
   "source": [
    "### Разделение данных  \n",
    "\n",
    "Отделим целевую переменную от датасета. Разделять на тренировочную и тестовые выборки смысла нет, так как везде используется кросс-валидация. Данные сразу подготовим с целью улучшения производительности.  "
   ]
  },
  {
   "cell_type": "code",
   "execution_count": 27,
   "metadata": {},
   "outputs": [
    {
     "name": "stdout",
     "output_type": "stream",
     "text": [
      "x, y shapes: (8693, 64), (8693,)\n",
      "x_test shape: (4277, 64)\n"
     ]
    }
   ],
   "source": [
    "x = train_dataset.copy()\n",
    "y = x.pop(TARGET)\n",
    "\n",
    "x = preprocessor.fit_transform(x)\n",
    "x_test = preprocessor.transform(test_dataset)\n",
    "\n",
    "print(f'x, y shapes: {x.shape}, {y.shape}')\n",
    "print(f'x_test shape: {x_test.shape}')"
   ]
  },
  {
   "cell_type": "markdown",
   "metadata": {},
   "source": [
    "### Выбор метрик  \n",
    "\n",
    "Так как это классификация и целевая переменная распределена равномерно, будем использовать в качестве основной метрики точность - `accuracy_score`. Но также взглянем и на другие метрики: precision, recall, f1, roc-auc."
   ]
  },
  {
   "cell_type": "code",
   "execution_count": 28,
   "metadata": {},
   "outputs": [],
   "source": [
    "class Metrics(NamedTuple):\n",
    "    \"\"\"Класс для сохранения и передачи информации о метриках.\"\"\"\n",
    "    \n",
    "    accuracy: float\n",
    "    precision: float\n",
    "    roc_auc: float\n",
    "    recall: float\n",
    "    f1: float\n",
    "\n",
    "    @classmethod\n",
    "    def names(cls) -> tuple[str, ...]:\n",
    "        return cls._fields"
   ]
  },
  {
   "cell_type": "code",
   "execution_count": 29,
   "metadata": {},
   "outputs": [],
   "source": [
    "def get_metrics(cv_results: dict[str, npt.NDArray[np.float64]]) -> Metrics:\n",
    "    \"\"\"Возвращает метрики из результатов кросс-валидации.\"\"\"\n",
    "\n",
    "    metrics = {m: cv_results['test_' + m].mean() for m in Metrics.names()}\n",
    "    \n",
    "    return Metrics(**metrics)"
   ]
  },
  {
   "cell_type": "code",
   "execution_count": 30,
   "metadata": {},
   "outputs": [],
   "source": [
    "metrics = pd.DataFrame(columns=Metrics.names())"
   ]
  },
  {
   "cell_type": "markdown",
   "metadata": {},
   "source": [
    "### Базовая модель  \n",
    "\n",
    "В качестве базовой модели возьмём ту, что случайно выбирает ответ."
   ]
  },
  {
   "cell_type": "code",
   "execution_count": 31,
   "metadata": {},
   "outputs": [
    {
     "data": {
      "text/html": [
       "<div>\n",
       "<style scoped>\n",
       "    .dataframe tbody tr th:only-of-type {\n",
       "        vertical-align: middle;\n",
       "    }\n",
       "\n",
       "    .dataframe tbody tr th {\n",
       "        vertical-align: top;\n",
       "    }\n",
       "\n",
       "    .dataframe thead th {\n",
       "        text-align: right;\n",
       "    }\n",
       "</style>\n",
       "<table border=\"1\" class=\"dataframe\">\n",
       "  <thead>\n",
       "    <tr style=\"text-align: right;\">\n",
       "      <th></th>\n",
       "      <th>accuracy</th>\n",
       "      <th>precision</th>\n",
       "      <th>roc_auc</th>\n",
       "      <th>recall</th>\n",
       "      <th>f1</th>\n",
       "    </tr>\n",
       "  </thead>\n",
       "  <tbody>\n",
       "    <tr>\n",
       "      <th>baseline</th>\n",
       "      <td>0.499482</td>\n",
       "      <td>0.503102</td>\n",
       "      <td>0.5</td>\n",
       "      <td>0.499769</td>\n",
       "      <td>0.50143</td>\n",
       "    </tr>\n",
       "  </tbody>\n",
       "</table>\n",
       "</div>"
      ],
      "text/plain": [
       "          accuracy precision roc_auc    recall       f1\n",
       "baseline  0.499482  0.503102     0.5  0.499769  0.50143"
      ]
     },
     "execution_count": 31,
     "metadata": {},
     "output_type": "execute_result"
    }
   ],
   "source": [
    "baseline = DummyClassifier(strategy='uniform', random_state=RANDOM_STATE)\n",
    "cv_results = cross_validate(baseline, x, y, cv=N_FOLDS, scoring=Metrics.names())\n",
    "\n",
    "metrics.loc['baseline', :] = get_metrics(cv_results)\n",
    "metrics"
   ]
  },
  {
   "cell_type": "markdown",
   "metadata": {},
   "source": [
    "### Выбор модели  \n",
    "\n",
    "Обучим несколько моделей с параметрами по умолчанию, выберем лучшую из них и уже её будем оптимизировать далее.  "
   ]
  },
  {
   "cell_type": "code",
   "execution_count": 32,
   "metadata": {},
   "outputs": [
    {
     "data": {
      "text/html": [
       "<div>\n",
       "<style scoped>\n",
       "    .dataframe tbody tr th:only-of-type {\n",
       "        vertical-align: middle;\n",
       "    }\n",
       "\n",
       "    .dataframe tbody tr th {\n",
       "        vertical-align: top;\n",
       "    }\n",
       "\n",
       "    .dataframe thead th {\n",
       "        text-align: right;\n",
       "    }\n",
       "</style>\n",
       "<table border=\"1\" class=\"dataframe\">\n",
       "  <thead>\n",
       "    <tr style=\"text-align: right;\">\n",
       "      <th></th>\n",
       "      <th>accuracy</th>\n",
       "      <th>precision</th>\n",
       "      <th>roc_auc</th>\n",
       "      <th>recall</th>\n",
       "      <th>f1</th>\n",
       "    </tr>\n",
       "  </thead>\n",
       "  <tbody>\n",
       "    <tr>\n",
       "      <th>svc</th>\n",
       "      <td>0.799264</td>\n",
       "      <td>0.781476</td>\n",
       "      <td>0.879693</td>\n",
       "      <td>0.836918</td>\n",
       "      <td>0.807665</td>\n",
       "    </tr>\n",
       "    <tr>\n",
       "      <th>logistic_regression</th>\n",
       "      <td>0.792131</td>\n",
       "      <td>0.773817</td>\n",
       "      <td>0.880142</td>\n",
       "      <td>0.833273</td>\n",
       "      <td>0.801295</td>\n",
       "    </tr>\n",
       "    <tr>\n",
       "      <th>ridge</th>\n",
       "      <td>0.789486</td>\n",
       "      <td>0.775706</td>\n",
       "      <td>0.875536</td>\n",
       "      <td>0.821854</td>\n",
       "      <td>0.796949</td>\n",
       "    </tr>\n",
       "    <tr>\n",
       "      <th>random_forest</th>\n",
       "      <td>0.784191</td>\n",
       "      <td>0.825872</td>\n",
       "      <td>0.872193</td>\n",
       "      <td>0.729298</td>\n",
       "      <td>0.770583</td>\n",
       "    </tr>\n",
       "    <tr>\n",
       "      <th>knn</th>\n",
       "      <td>0.780858</td>\n",
       "      <td>0.79213</td>\n",
       "      <td>0.854555</td>\n",
       "      <td>0.768383</td>\n",
       "      <td>0.778684</td>\n",
       "    </tr>\n",
       "    <tr>\n",
       "      <th>gradient_boosting</th>\n",
       "      <td>0.753933</td>\n",
       "      <td>0.837419</td>\n",
       "      <td>0.866489</td>\n",
       "      <td>0.677367</td>\n",
       "      <td>0.719316</td>\n",
       "    </tr>\n",
       "    <tr>\n",
       "      <th>baseline</th>\n",
       "      <td>0.499482</td>\n",
       "      <td>0.503102</td>\n",
       "      <td>0.5</td>\n",
       "      <td>0.499769</td>\n",
       "      <td>0.50143</td>\n",
       "    </tr>\n",
       "  </tbody>\n",
       "</table>\n",
       "</div>"
      ],
      "text/plain": [
       "                     accuracy precision   roc_auc    recall        f1\n",
       "svc                  0.799264  0.781476  0.879693  0.836918  0.807665\n",
       "logistic_regression  0.792131  0.773817  0.880142  0.833273  0.801295\n",
       "ridge                0.789486  0.775706  0.875536  0.821854  0.796949\n",
       "random_forest        0.784191  0.825872  0.872193  0.729298  0.770583\n",
       "knn                  0.780858   0.79213  0.854555  0.768383  0.778684\n",
       "gradient_boosting    0.753933  0.837419  0.866489  0.677367  0.719316\n",
       "baseline             0.499482  0.503102       0.5  0.499769   0.50143"
      ]
     },
     "execution_count": 32,
     "metadata": {},
     "output_type": "execute_result"
    }
   ],
   "source": [
    "models = [\n",
    "    ('random_forest', RandomForestClassifier(random_state=RANDOM_STATE)), \n",
    "    ('gradient_boosting', GradientBoostingClassifier(random_state=RANDOM_STATE)), \n",
    "    ('logistic_regression', LogisticRegression(solver='liblinear')), \n",
    "    ('svc', SVC(random_state=RANDOM_STATE)),\n",
    "    ('knn', KNeighborsClassifier()), \n",
    "    ('ridge', RidgeClassifier(random_state=RANDOM_STATE)), \n",
    "]\n",
    "\n",
    "for name, model in models:\n",
    "    cv_results = cross_validate(model, x, y, cv=N_FOLDS, scoring=Metrics.names())\n",
    "    metrics.loc[name, :] = get_metrics(cv_results)\n",
    "\n",
    "metrics.sort_values(by='accuracy', ascending=False)"
   ]
  },
  {
   "cell_type": "markdown",
   "metadata": {},
   "source": [
    "### Оптимизация моделей\n",
    "\n",
    "Лучшей моделью оказывается `SVC`.  \n",
    "С помощью GridSearch оптимизируем гиперпараметры модели.  \n",
    "А затем обучим модель с оптимизированными параметрами."
   ]
  },
  {
   "cell_type": "code",
   "execution_count": 34,
   "metadata": {},
   "outputs": [
    {
     "name": "stdout",
     "output_type": "stream",
     "text": [
      "Лучшие параметры: {'C': 1.0, 'kernel': 'rbf'}\n"
     ]
    }
   ],
   "source": [
    "model = SVC(random_state=RANDOM_STATE)\n",
    "\n",
    "grid_parameters = {\n",
    "    'C': [0.1, 1.0, 10],\n",
    "    'kernel': ['linear', 'poly', 'rbf', 'sigmoid'],\n",
    "}\n",
    "\n",
    "grid_search = GridSearchCV(model, param_grid=grid_parameters, cv=N_FOLDS).fit(x, y)\n",
    "print(f'Лучшие параметры: {grid_search.best_params_}')"
   ]
  },
  {
   "cell_type": "code",
   "execution_count": 35,
   "metadata": {},
   "outputs": [
    {
     "data": {
      "text/html": [
       "<div>\n",
       "<style scoped>\n",
       "    .dataframe tbody tr th:only-of-type {\n",
       "        vertical-align: middle;\n",
       "    }\n",
       "\n",
       "    .dataframe tbody tr th {\n",
       "        vertical-align: top;\n",
       "    }\n",
       "\n",
       "    .dataframe thead th {\n",
       "        text-align: right;\n",
       "    }\n",
       "</style>\n",
       "<table border=\"1\" class=\"dataframe\">\n",
       "  <thead>\n",
       "    <tr style=\"text-align: right;\">\n",
       "      <th></th>\n",
       "      <th>accuracy</th>\n",
       "      <th>precision</th>\n",
       "      <th>roc_auc</th>\n",
       "      <th>recall</th>\n",
       "      <th>f1</th>\n",
       "    </tr>\n",
       "  </thead>\n",
       "  <tbody>\n",
       "    <tr>\n",
       "      <th>svc</th>\n",
       "      <td>0.799264</td>\n",
       "      <td>0.781476</td>\n",
       "      <td>0.879693</td>\n",
       "      <td>0.836918</td>\n",
       "      <td>0.807665</td>\n",
       "    </tr>\n",
       "    <tr>\n",
       "      <th>optimised_model</th>\n",
       "      <td>0.799264</td>\n",
       "      <td>0.781476</td>\n",
       "      <td>0.879693</td>\n",
       "      <td>0.836918</td>\n",
       "      <td>0.807665</td>\n",
       "    </tr>\n",
       "    <tr>\n",
       "      <th>logistic_regression</th>\n",
       "      <td>0.792131</td>\n",
       "      <td>0.773817</td>\n",
       "      <td>0.880142</td>\n",
       "      <td>0.833273</td>\n",
       "      <td>0.801295</td>\n",
       "    </tr>\n",
       "    <tr>\n",
       "      <th>ridge</th>\n",
       "      <td>0.789486</td>\n",
       "      <td>0.775706</td>\n",
       "      <td>0.875536</td>\n",
       "      <td>0.821854</td>\n",
       "      <td>0.796949</td>\n",
       "    </tr>\n",
       "    <tr>\n",
       "      <th>random_forest</th>\n",
       "      <td>0.784191</td>\n",
       "      <td>0.825872</td>\n",
       "      <td>0.872193</td>\n",
       "      <td>0.729298</td>\n",
       "      <td>0.770583</td>\n",
       "    </tr>\n",
       "    <tr>\n",
       "      <th>knn</th>\n",
       "      <td>0.780858</td>\n",
       "      <td>0.79213</td>\n",
       "      <td>0.854555</td>\n",
       "      <td>0.768383</td>\n",
       "      <td>0.778684</td>\n",
       "    </tr>\n",
       "    <tr>\n",
       "      <th>gradient_boosting</th>\n",
       "      <td>0.753933</td>\n",
       "      <td>0.837419</td>\n",
       "      <td>0.866489</td>\n",
       "      <td>0.677367</td>\n",
       "      <td>0.719316</td>\n",
       "    </tr>\n",
       "    <tr>\n",
       "      <th>baseline</th>\n",
       "      <td>0.499482</td>\n",
       "      <td>0.503102</td>\n",
       "      <td>0.5</td>\n",
       "      <td>0.499769</td>\n",
       "      <td>0.50143</td>\n",
       "    </tr>\n",
       "  </tbody>\n",
       "</table>\n",
       "</div>"
      ],
      "text/plain": [
       "                     accuracy precision   roc_auc    recall        f1\n",
       "svc                  0.799264  0.781476  0.879693  0.836918  0.807665\n",
       "optimised_model      0.799264  0.781476  0.879693  0.836918  0.807665\n",
       "logistic_regression  0.792131  0.773817  0.880142  0.833273  0.801295\n",
       "ridge                0.789486  0.775706  0.875536  0.821854  0.796949\n",
       "random_forest        0.784191  0.825872  0.872193  0.729298  0.770583\n",
       "knn                  0.780858   0.79213  0.854555  0.768383  0.778684\n",
       "gradient_boosting    0.753933  0.837419  0.866489  0.677367  0.719316\n",
       "baseline             0.499482  0.503102       0.5  0.499769   0.50143"
      ]
     },
     "execution_count": 35,
     "metadata": {},
     "output_type": "execute_result"
    }
   ],
   "source": [
    "optimised_model = grid_search.best_estimator_\n",
    "cv_results = cross_validate(optimised_model, x, y, cv=N_FOLDS, scoring=Metrics.names())\n",
    "\n",
    "metrics.loc['optimised_model', :] = get_metrics(cv_results)\n",
    "metrics.sort_values(by='accuracy', ascending=False)"
   ]
  },
  {
   "cell_type": "markdown",
   "metadata": {},
   "source": [
    "### Финальная модель  \n",
    "\n",
    "Получим окончательную модель в виде `VotingClassifier` и обучим её на всём датасете.  "
   ]
  },
  {
   "cell_type": "code",
   "execution_count": 82,
   "metadata": {},
   "outputs": [
    {
     "data": {
      "text/html": [
       "<style>#sk-container-id-1 {color: black;background-color: white;}#sk-container-id-1 pre{padding: 0;}#sk-container-id-1 div.sk-toggleable {background-color: white;}#sk-container-id-1 label.sk-toggleable__label {cursor: pointer;display: block;width: 100%;margin-bottom: 0;padding: 0.3em;box-sizing: border-box;text-align: center;}#sk-container-id-1 label.sk-toggleable__label-arrow:before {content: \"▸\";float: left;margin-right: 0.25em;color: #696969;}#sk-container-id-1 label.sk-toggleable__label-arrow:hover:before {color: black;}#sk-container-id-1 div.sk-estimator:hover label.sk-toggleable__label-arrow:before {color: black;}#sk-container-id-1 div.sk-toggleable__content {max-height: 0;max-width: 0;overflow: hidden;text-align: left;background-color: #f0f8ff;}#sk-container-id-1 div.sk-toggleable__content pre {margin: 0.2em;color: black;border-radius: 0.25em;background-color: #f0f8ff;}#sk-container-id-1 input.sk-toggleable__control:checked~div.sk-toggleable__content {max-height: 200px;max-width: 100%;overflow: auto;}#sk-container-id-1 input.sk-toggleable__control:checked~label.sk-toggleable__label-arrow:before {content: \"▾\";}#sk-container-id-1 div.sk-estimator input.sk-toggleable__control:checked~label.sk-toggleable__label {background-color: #d4ebff;}#sk-container-id-1 div.sk-label input.sk-toggleable__control:checked~label.sk-toggleable__label {background-color: #d4ebff;}#sk-container-id-1 input.sk-hidden--visually {border: 0;clip: rect(1px 1px 1px 1px);clip: rect(1px, 1px, 1px, 1px);height: 1px;margin: -1px;overflow: hidden;padding: 0;position: absolute;width: 1px;}#sk-container-id-1 div.sk-estimator {font-family: monospace;background-color: #f0f8ff;border: 1px dotted black;border-radius: 0.25em;box-sizing: border-box;margin-bottom: 0.5em;}#sk-container-id-1 div.sk-estimator:hover {background-color: #d4ebff;}#sk-container-id-1 div.sk-parallel-item::after {content: \"\";width: 100%;border-bottom: 1px solid gray;flex-grow: 1;}#sk-container-id-1 div.sk-label:hover label.sk-toggleable__label {background-color: #d4ebff;}#sk-container-id-1 div.sk-serial::before {content: \"\";position: absolute;border-left: 1px solid gray;box-sizing: border-box;top: 0;bottom: 0;left: 50%;z-index: 0;}#sk-container-id-1 div.sk-serial {display: flex;flex-direction: column;align-items: center;background-color: white;padding-right: 0.2em;padding-left: 0.2em;position: relative;}#sk-container-id-1 div.sk-item {position: relative;z-index: 1;}#sk-container-id-1 div.sk-parallel {display: flex;align-items: stretch;justify-content: center;background-color: white;position: relative;}#sk-container-id-1 div.sk-item::before, #sk-container-id-1 div.sk-parallel-item::before {content: \"\";position: absolute;border-left: 1px solid gray;box-sizing: border-box;top: 0;bottom: 0;left: 50%;z-index: -1;}#sk-container-id-1 div.sk-parallel-item {display: flex;flex-direction: column;z-index: 1;position: relative;background-color: white;}#sk-container-id-1 div.sk-parallel-item:first-child::after {align-self: flex-end;width: 50%;}#sk-container-id-1 div.sk-parallel-item:last-child::after {align-self: flex-start;width: 50%;}#sk-container-id-1 div.sk-parallel-item:only-child::after {width: 0;}#sk-container-id-1 div.sk-dashed-wrapped {border: 1px dashed gray;margin: 0 0.4em 0.5em 0.4em;box-sizing: border-box;padding-bottom: 0.4em;background-color: white;}#sk-container-id-1 div.sk-label label {font-family: monospace;font-weight: bold;display: inline-block;line-height: 1.2em;}#sk-container-id-1 div.sk-label-container {text-align: center;}#sk-container-id-1 div.sk-container {/* jupyter's `normalize.less` sets `[hidden] { display: none; }` but bootstrap.min.css set `[hidden] { display: none !important; }` so we also need the `!important` here to be able to override the default hidden behavior on the sphinx rendered scikit-learn.org. See: https://github.com/scikit-learn/scikit-learn/issues/21755 */display: inline-block !important;position: relative;}#sk-container-id-1 div.sk-text-repr-fallback {display: none;}</style><div id=\"sk-container-id-1\" class=\"sk-top-container\"><div class=\"sk-text-repr-fallback\"><pre>VotingClassifier(estimators=[(&#x27;random_forest&#x27;,\n",
       "                              RandomForestClassifier(random_state=42)),\n",
       "                             (&#x27;logistic_regression&#x27;,\n",
       "                              LogisticRegression(solver=&#x27;liblinear&#x27;)),\n",
       "                             (&#x27;svc&#x27;, SVC(random_state=42))])</pre><b>In a Jupyter environment, please rerun this cell to show the HTML representation or trust the notebook. <br />On GitHub, the HTML representation is unable to render, please try loading this page with nbviewer.org.</b></div><div class=\"sk-container\" hidden><div class=\"sk-item sk-dashed-wrapped\"><div class=\"sk-label-container\"><div class=\"sk-label sk-toggleable\"><input class=\"sk-toggleable__control sk-hidden--visually\" id=\"sk-estimator-id-1\" type=\"checkbox\" ><label for=\"sk-estimator-id-1\" class=\"sk-toggleable__label sk-toggleable__label-arrow\">VotingClassifier</label><div class=\"sk-toggleable__content\"><pre>VotingClassifier(estimators=[(&#x27;random_forest&#x27;,\n",
       "                              RandomForestClassifier(random_state=42)),\n",
       "                             (&#x27;logistic_regression&#x27;,\n",
       "                              LogisticRegression(solver=&#x27;liblinear&#x27;)),\n",
       "                             (&#x27;svc&#x27;, SVC(random_state=42))])</pre></div></div></div><div class=\"sk-parallel\"><div class=\"sk-parallel-item\"><div class=\"sk-item\"><div class=\"sk-label-container\"><div class=\"sk-label sk-toggleable\"><label>random_forest</label></div></div><div class=\"sk-serial\"><div class=\"sk-item\"><div class=\"sk-estimator sk-toggleable\"><input class=\"sk-toggleable__control sk-hidden--visually\" id=\"sk-estimator-id-2\" type=\"checkbox\" ><label for=\"sk-estimator-id-2\" class=\"sk-toggleable__label sk-toggleable__label-arrow\">RandomForestClassifier</label><div class=\"sk-toggleable__content\"><pre>RandomForestClassifier(random_state=42)</pre></div></div></div></div></div></div><div class=\"sk-parallel-item\"><div class=\"sk-item\"><div class=\"sk-label-container\"><div class=\"sk-label sk-toggleable\"><label>logistic_regression</label></div></div><div class=\"sk-serial\"><div class=\"sk-item\"><div class=\"sk-estimator sk-toggleable\"><input class=\"sk-toggleable__control sk-hidden--visually\" id=\"sk-estimator-id-3\" type=\"checkbox\" ><label for=\"sk-estimator-id-3\" class=\"sk-toggleable__label sk-toggleable__label-arrow\">LogisticRegression</label><div class=\"sk-toggleable__content\"><pre>LogisticRegression(solver=&#x27;liblinear&#x27;)</pre></div></div></div></div></div></div><div class=\"sk-parallel-item\"><div class=\"sk-item\"><div class=\"sk-label-container\"><div class=\"sk-label sk-toggleable\"><label>svc</label></div></div><div class=\"sk-serial\"><div class=\"sk-item\"><div class=\"sk-estimator sk-toggleable\"><input class=\"sk-toggleable__control sk-hidden--visually\" id=\"sk-estimator-id-4\" type=\"checkbox\" ><label for=\"sk-estimator-id-4\" class=\"sk-toggleable__label sk-toggleable__label-arrow\">SVC</label><div class=\"sk-toggleable__content\"><pre>SVC(random_state=42)</pre></div></div></div></div></div></div></div></div></div></div>"
      ],
      "text/plain": [
       "VotingClassifier(estimators=[('random_forest',\n",
       "                              RandomForestClassifier(random_state=42)),\n",
       "                             ('logistic_regression',\n",
       "                              LogisticRegression(solver='liblinear')),\n",
       "                             ('svc', SVC(random_state=42))])"
      ]
     },
     "execution_count": 82,
     "metadata": {},
     "output_type": "execute_result"
    }
   ],
   "source": [
    "models =[\n",
    "    ('random_forest', RandomForestClassifier(random_state=RANDOM_STATE)), \n",
    "    ('logistic_regression', LogisticRegression(solver='liblinear')), \n",
    "    ('svc', SVC(random_state=RANDOM_STATE)),\n",
    "]\n",
    "\n",
    "final_model = VotingClassifier(estimators=models)\n",
    "final_model.fit(x, y);"
   ]
  },
  {
   "cell_type": "markdown",
   "metadata": {},
   "source": [
    "## Результаты"
   ]
  },
  {
   "cell_type": "markdown",
   "metadata": {},
   "source": [
    "Далее сформируем предсказания для тестовой выборки. Сохраним результаты и отправим их на kaggle."
   ]
  },
  {
   "cell_type": "code",
   "execution_count": 84,
   "metadata": {},
   "outputs": [
    {
     "name": "stdout",
     "output_type": "stream",
     "text": [
      "test_predictions.shape (4277, 2)\n"
     ]
    },
    {
     "data": {
      "text/html": [
       "<div>\n",
       "<style scoped>\n",
       "    .dataframe tbody tr th:only-of-type {\n",
       "        vertical-align: middle;\n",
       "    }\n",
       "\n",
       "    .dataframe tbody tr th {\n",
       "        vertical-align: top;\n",
       "    }\n",
       "\n",
       "    .dataframe thead th {\n",
       "        text-align: right;\n",
       "    }\n",
       "</style>\n",
       "<table border=\"1\" class=\"dataframe\">\n",
       "  <thead>\n",
       "    <tr style=\"text-align: right;\">\n",
       "      <th></th>\n",
       "      <th>PassengerId</th>\n",
       "      <th>Transported</th>\n",
       "    </tr>\n",
       "  </thead>\n",
       "  <tbody>\n",
       "    <tr>\n",
       "      <th>0</th>\n",
       "      <td>0013_01</td>\n",
       "      <td>True</td>\n",
       "    </tr>\n",
       "    <tr>\n",
       "      <th>1</th>\n",
       "      <td>0018_01</td>\n",
       "      <td>False</td>\n",
       "    </tr>\n",
       "    <tr>\n",
       "      <th>2</th>\n",
       "      <td>0019_01</td>\n",
       "      <td>True</td>\n",
       "    </tr>\n",
       "    <tr>\n",
       "      <th>3</th>\n",
       "      <td>0021_01</td>\n",
       "      <td>True</td>\n",
       "    </tr>\n",
       "    <tr>\n",
       "      <th>4</th>\n",
       "      <td>0023_01</td>\n",
       "      <td>False</td>\n",
       "    </tr>\n",
       "  </tbody>\n",
       "</table>\n",
       "</div>"
      ],
      "text/plain": [
       "  PassengerId  Transported\n",
       "0     0013_01         True\n",
       "1     0018_01        False\n",
       "2     0019_01         True\n",
       "3     0021_01         True\n",
       "4     0023_01        False"
      ]
     },
     "execution_count": 84,
     "metadata": {},
     "output_type": "execute_result"
    }
   ],
   "source": [
    "test_predictions = pd.DataFrame({\n",
    "    'PassengerId': test_dataset['PassengerId'],\n",
    "    'Transported': final_model.predict(x_test),\n",
    "})\n",
    "print('test_predictions.shape', test_predictions.shape)\n",
    "test_predictions.head()"
   ]
  },
  {
   "cell_type": "code",
   "execution_count": 85,
   "metadata": {},
   "outputs": [],
   "source": [
    "filename = 'submission5.csv'\n",
    "test_predictions.to_csv(path_join('data', filename), index=False)"
   ]
  },
  {
   "cell_type": "markdown",
   "metadata": {},
   "source": [
    "Первая попытка (2022-07-13) дала результат: место в рейтинге - 1146, точность - 0.79401.  \n",
    "Вторая попытка (2022-07-23) дала результат: место в рейтинге -  410, точность - 0.80383.  \n",
    "Третья попытка (2022-07-23) дала результат: место в рейтинге -  365, точность - 0.80430.  \n",
    "\n",
    "Можно попробовать оптимизировать другие модели, \n",
    "добавить новые модели \n",
    "или использовать StackingClassifier или VotingClassifier.\n",
    "Посмотреть на модуль category_encoders.\n",
    "\n",
    "VotingClassifier неплохо показал себя, стоит оптимизировать модели, которые будут использоваться в этом методе."
   ]
  }
 ],
 "metadata": {
  "kernelspec": {
   "display_name": "Python 3.10.5 ('.venv': venv)",
   "language": "python",
   "name": "python3"
  },
  "language_info": {
   "codemirror_mode": {
    "name": "ipython",
    "version": 3
   },
   "file_extension": ".py",
   "mimetype": "text/x-python",
   "name": "python",
   "nbconvert_exporter": "python",
   "pygments_lexer": "ipython3",
   "version": "3.10.5"
  },
  "orig_nbformat": 4,
  "vscode": {
   "interpreter": {
    "hash": "6d76204c166306686835f8287b763ad182637562b8bad6848f4630d3df8ef1d0"
   }
  }
 },
 "nbformat": 4,
 "nbformat_minor": 2
}
